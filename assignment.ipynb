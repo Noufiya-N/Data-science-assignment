{
  "nbformat": 4,
  "nbformat_minor": 0,
  "metadata": {
    "colab": {
      "provenance": [],
      "authorship_tag": "ABX9TyM3P0HMWkrrsY+cKXF6CokY",
      "include_colab_link": true
    },
    "kernelspec": {
      "name": "python3",
      "display_name": "Python 3"
    },
    "language_info": {
      "name": "python"
    }
  },
  "cells": [
    {
      "cell_type": "markdown",
      "metadata": {
        "id": "view-in-github",
        "colab_type": "text"
      },
      "source": [
        "<a href=\"https://colab.research.google.com/github/Noufiya-N/Data-science-assignment/blob/main/assignment.ipynb\" target=\"_parent\"><img src=\"https://colab.research.google.com/assets/colab-badge.svg\" alt=\"Open In Colab\"/></a>"
      ]
    },
    {
      "cell_type": "markdown",
      "source": [
        "1. Write a Python program which accepts the radius of a circle from the user and compute the area"
      ],
      "metadata": {
        "id": "9sOFYS1m9UYU"
      }
    },
    {
      "cell_type": "code",
      "execution_count": null,
      "metadata": {
        "colab": {
          "base_uri": "https://localhost:8080/"
        },
        "id": "BrA2VInfhWt_",
        "outputId": "f909cd2c-7049-443f-f77a-730e244236b1"
      },
      "outputs": [
        {
          "output_type": "stream",
          "name": "stdout",
          "text": [
            "radius of circle3\n",
            "28.259999999999998\n"
          ]
        }
      ],
      "source": [
        "r=int(input(\"radius of circle\"))\n",
        "a=3.14 * r * r\n",
        "print(a)"
      ]
    },
    {
      "cell_type": "markdown",
      "source": [
        "2. Write a Python Program to accept the details of a student like name, roll number and mark and display it.\n"
      ],
      "metadata": {
        "id": "onN9i8NG9TIP"
      }
    },
    {
      "cell_type": "code",
      "source": [
        "name=\"anisha\"\n",
        "rollno =21\n",
        "mark=78\n",
        "print(name)\n",
        "print(rollno)\n",
        "print(mark)\n"
      ],
      "metadata": {
        "colab": {
          "base_uri": "https://localhost:8080/"
        },
        "id": "wSKFnU-Kh4pV",
        "outputId": "ccb5fde6-9101-46bc-9849-79c66af5f7ed"
      },
      "execution_count": null,
      "outputs": [
        {
          "output_type": "stream",
          "name": "stdout",
          "text": [
            "anisha\n",
            "21\n",
            "78\n"
          ]
        }
      ]
    },
    {
      "cell_type": "markdown",
      "source": [
        "3. Write a Python program to get the largest number from a list."
      ],
      "metadata": {
        "id": "R6snvBPl-pDf"
      }
    },
    {
      "cell_type": "code",
      "source": [
        "list=[12,3,47,10]\n",
        "print(\"Largest element is :\", max(list))"
      ],
      "metadata": {
        "colab": {
          "base_uri": "https://localhost:8080/"
        },
        "id": "0EW_FysQljwx",
        "outputId": "4f7bba73-c65c-420d-f175-eecf332f4672"
      },
      "execution_count": null,
      "outputs": [
        {
          "output_type": "stream",
          "name": "stdout",
          "text": [
            "Largest element is : 47\n"
          ]
        }
      ]
    },
    {
      "cell_type": "markdown",
      "source": [
        "4. Given a range of first 10 numbers, write a Python program to iterate from\n",
        "start number to the end number and print the sum of the current number\n",
        "and previous number.\n"
      ],
      "metadata": {
        "id": "Lb8zh82x-tEP"
      }
    },
    {
      "cell_type": "code",
      "source": [
        "for i in range(1,11):\n",
        "  previous_num=0\n",
        "for current_num in range(1,11):\n",
        "  sum=current_num + previous_num\n",
        "  print(f\"current_num: {current_num} , previous_num:{previous_num}:,sum: {sum}\")\n",
        "  previous_num=current_num\n"
      ],
      "metadata": {
        "colab": {
          "base_uri": "https://localhost:8080/"
        },
        "id": "WyJmKKPypKIV",
        "outputId": "cdeccccf-32d3-432e-f312-a0a44bd41c56"
      },
      "execution_count": null,
      "outputs": [
        {
          "output_type": "stream",
          "name": "stdout",
          "text": [
            "current_num: 1 , previous_num:0:,sum: 1\n",
            "current_num: 2 , previous_num:1:,sum: 3\n",
            "current_num: 3 , previous_num:2:,sum: 5\n",
            "current_num: 4 , previous_num:3:,sum: 7\n",
            "current_num: 5 , previous_num:4:,sum: 9\n",
            "current_num: 6 , previous_num:5:,sum: 11\n",
            "current_num: 7 , previous_num:6:,sum: 13\n",
            "current_num: 8 , previous_num:7:,sum: 15\n",
            "current_num: 9 , previous_num:8:,sum: 17\n",
            "current_num: 10 , previous_num:9:,sum: 19\n"
          ]
        }
      ]
    },
    {
      "cell_type": "markdown",
      "source": [],
      "metadata": {
        "id": "1ma7bn9H_2L7"
      }
    },
    {
      "cell_type": "code",
      "source": [
        "number=[10,20,33,46,55]\n",
        "for number in number:\n",
        "  if number%5==0:\n",
        "    print(number)"
      ],
      "metadata": {
        "colab": {
          "base_uri": "https://localhost:8080/"
        },
        "id": "NWthlkKerTN2",
        "outputId": "f5e985e3-a2b2-4d3c-9e3e-afaf1fb64aa3"
      },
      "execution_count": null,
      "outputs": [
        {
          "output_type": "stream",
          "name": "stdout",
          "text": [
            "10\n",
            "20\n",
            "55\n"
          ]
        }
      ]
    },
    {
      "cell_type": "code",
      "source": [
        "number=5\n",
        "if(number%i==0):\n",
        "  print('5 is not prime')\n",
        "else:\n",
        "  print('5 is prime')\n"
      ],
      "metadata": {
        "colab": {
          "base_uri": "https://localhost:8080/"
        },
        "id": "fIvBGfE9zsBl",
        "outputId": "9da46e6b-5c72-4886-a3ca-2da164cfa81a"
      },
      "execution_count": null,
      "outputs": [
        {
          "output_type": "stream",
          "name": "stdout",
          "text": [
            "5 is prime\n"
          ]
        }
      ]
    },
    {
      "cell_type": "code",
      "source": [
        "list=[10,40,30,70]\n",
        "list.reverse()\n",
        "print(list)"
      ],
      "metadata": {
        "colab": {
          "base_uri": "https://localhost:8080/"
        },
        "id": "6WSA9vpB1PCJ",
        "outputId": "6d4510c2-32d1-4b02-e24f-c9d05e3d963a"
      },
      "execution_count": null,
      "outputs": [
        {
          "output_type": "stream",
          "name": "stdout",
          "text": [
            "[70, 30, 40, 10]\n"
          ]
        }
      ]
    },
    {
      "cell_type": "code",
      "source": [
        "row=4\n",
        "for i in range(1,row+1):\n",
        "  print('*' *i)"
      ],
      "metadata": {
        "colab": {
          "base_uri": "https://localhost:8080/"
        },
        "id": "Sex57gL15cGS",
        "outputId": "7782e52a-a482-4f2a-eb13-f6b84c764303"
      },
      "execution_count": null,
      "outputs": [
        {
          "output_type": "stream",
          "name": "stdout",
          "text": [
            "*\n",
            "**\n",
            "***\n",
            "****\n"
          ]
        }
      ]
    },
    {
      "cell_type": "code",
      "source": [],
      "metadata": {
        "id": "AQf-ZJit7KqG"
      },
      "execution_count": null,
      "outputs": []
    },
    {
      "cell_type": "code",
      "source": [
        "\n",
        "\n"
      ],
      "metadata": {
        "id": "z0NGLyHe8EUX"
      },
      "execution_count": null,
      "outputs": []
    },
    {
      "cell_type": "code",
      "source": [
        "a=34\n",
        "b=12\n",
        "c=7\n",
        "d=max(a,b,c)\n",
        "print(d)"
      ],
      "metadata": {
        "colab": {
          "base_uri": "https://localhost:8080/"
        },
        "id": "4tTUEq9V8fBC",
        "outputId": "2714266a-9934-4cdc-d79a-1fcf46439838"
      },
      "execution_count": null,
      "outputs": [
        {
          "output_type": "stream",
          "name": "stdout",
          "text": [
            "34\n"
          ]
        }
      ]
    },
    {
      "cell_type": "code",
      "source": [
        "n=5\n",
        "for i in range(1, n + 1):\n",
        "  print('*'*i)\n",
        "  for i in range(n - 1, 0, -1):\n",
        "    print('*'*i)"
      ],
      "metadata": {
        "colab": {
          "base_uri": "https://localhost:8080/"
        },
        "id": "8eP28Umw-OEK",
        "outputId": "9785e456-0923-4d53-d087-1ef256d07786"
      },
      "execution_count": null,
      "outputs": [
        {
          "output_type": "stream",
          "name": "stdout",
          "text": [
            "*\n",
            "****\n",
            "***\n",
            "**\n",
            "*\n",
            "**\n",
            "****\n",
            "***\n",
            "**\n",
            "*\n",
            "***\n",
            "****\n",
            "***\n",
            "**\n",
            "*\n",
            "****\n",
            "****\n",
            "***\n",
            "**\n",
            "*\n",
            "*****\n",
            "****\n",
            "***\n",
            "**\n",
            "*\n"
          ]
        }
      ]
    },
    {
      "cell_type": "code",
      "source": [],
      "metadata": {
        "id": "Vc-Yo3nNACRg"
      },
      "execution_count": null,
      "outputs": []
    }
  ]
}